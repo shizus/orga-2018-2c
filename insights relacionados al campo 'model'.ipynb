{
 "cells": [
  {
   "cell_type": "code",
   "execution_count": 1,
   "metadata": {},
   "outputs": [],
   "source": [
    "#importaciones\n",
    "import pandas as pd\n",
    "import seaborn as sns\n",
    "import matplotlib.pyplot as plt\n",
    "import numpy as np"
   ]
  },
  {
   "cell_type": "code",
   "execution_count": 2,
   "metadata": {},
   "outputs": [],
   "source": [
    "models = pd.read_csv('/home/jonathan/events.csv',low_memory = False)"
   ]
  },
  {
   "cell_type": "code",
   "execution_count": 3,
   "metadata": {},
   "outputs": [
    {
     "data": {
      "text/html": [
       "<div>\n",
       "<style scoped>\n",
       "    .dataframe tbody tr th:only-of-type {\n",
       "        vertical-align: middle;\n",
       "    }\n",
       "\n",
       "    .dataframe tbody tr th {\n",
       "        vertical-align: top;\n",
       "    }\n",
       "\n",
       "    .dataframe thead th {\n",
       "        text-align: right;\n",
       "    }\n",
       "</style>\n",
       "<table border=\"1\" class=\"dataframe\">\n",
       "  <thead>\n",
       "    <tr style=\"text-align: right;\">\n",
       "      <th></th>\n",
       "      <th>timestamp</th>\n",
       "      <th>event</th>\n",
       "      <th>person</th>\n",
       "      <th>url</th>\n",
       "      <th>sku</th>\n",
       "      <th>model</th>\n",
       "      <th>condition</th>\n",
       "      <th>storage</th>\n",
       "      <th>color</th>\n",
       "      <th>skus</th>\n",
       "      <th>...</th>\n",
       "      <th>search_engine</th>\n",
       "      <th>channel</th>\n",
       "      <th>new_vs_returning</th>\n",
       "      <th>city</th>\n",
       "      <th>region</th>\n",
       "      <th>country</th>\n",
       "      <th>device_type</th>\n",
       "      <th>screen_resolution</th>\n",
       "      <th>operating_system_version</th>\n",
       "      <th>browser_version</th>\n",
       "    </tr>\n",
       "  </thead>\n",
       "  <tbody>\n",
       "    <tr>\n",
       "      <th>0</th>\n",
       "      <td>2018-05-31 23:38:05</td>\n",
       "      <td>ad campaign hit</td>\n",
       "      <td>0004b0a2</td>\n",
       "      <td>/comprar/iphone/iphone-5s</td>\n",
       "      <td>NaN</td>\n",
       "      <td>NaN</td>\n",
       "      <td>NaN</td>\n",
       "      <td>NaN</td>\n",
       "      <td>NaN</td>\n",
       "      <td>NaN</td>\n",
       "      <td>...</td>\n",
       "      <td>NaN</td>\n",
       "      <td>NaN</td>\n",
       "      <td>NaN</td>\n",
       "      <td>NaN</td>\n",
       "      <td>NaN</td>\n",
       "      <td>NaN</td>\n",
       "      <td>NaN</td>\n",
       "      <td>NaN</td>\n",
       "      <td>NaN</td>\n",
       "      <td>NaN</td>\n",
       "    </tr>\n",
       "    <tr>\n",
       "      <th>1</th>\n",
       "      <td>2018-05-31 23:38:05</td>\n",
       "      <td>visited site</td>\n",
       "      <td>0004b0a2</td>\n",
       "      <td>NaN</td>\n",
       "      <td>NaN</td>\n",
       "      <td>NaN</td>\n",
       "      <td>NaN</td>\n",
       "      <td>NaN</td>\n",
       "      <td>NaN</td>\n",
       "      <td>NaN</td>\n",
       "      <td>...</td>\n",
       "      <td>NaN</td>\n",
       "      <td>Paid</td>\n",
       "      <td>New</td>\n",
       "      <td>Camaragibe</td>\n",
       "      <td>Pernambuco</td>\n",
       "      <td>Brazil</td>\n",
       "      <td>Smartphone</td>\n",
       "      <td>360x640</td>\n",
       "      <td>Android 6</td>\n",
       "      <td>Chrome Mobile 39</td>\n",
       "    </tr>\n",
       "    <tr>\n",
       "      <th>2</th>\n",
       "      <td>2018-05-31 23:38:09</td>\n",
       "      <td>viewed product</td>\n",
       "      <td>0004b0a2</td>\n",
       "      <td>NaN</td>\n",
       "      <td>2694.0</td>\n",
       "      <td>iPhone 5s</td>\n",
       "      <td>Bom</td>\n",
       "      <td>32GB</td>\n",
       "      <td>Cinza espacial</td>\n",
       "      <td>NaN</td>\n",
       "      <td>...</td>\n",
       "      <td>NaN</td>\n",
       "      <td>NaN</td>\n",
       "      <td>NaN</td>\n",
       "      <td>NaN</td>\n",
       "      <td>NaN</td>\n",
       "      <td>NaN</td>\n",
       "      <td>NaN</td>\n",
       "      <td>NaN</td>\n",
       "      <td>NaN</td>\n",
       "      <td>NaN</td>\n",
       "    </tr>\n",
       "    <tr>\n",
       "      <th>3</th>\n",
       "      <td>2018-05-31 23:38:40</td>\n",
       "      <td>checkout</td>\n",
       "      <td>0004b0a2</td>\n",
       "      <td>NaN</td>\n",
       "      <td>2694.0</td>\n",
       "      <td>iPhone 5s</td>\n",
       "      <td>Bom</td>\n",
       "      <td>32GB</td>\n",
       "      <td>Cinza espacial</td>\n",
       "      <td>NaN</td>\n",
       "      <td>...</td>\n",
       "      <td>NaN</td>\n",
       "      <td>NaN</td>\n",
       "      <td>NaN</td>\n",
       "      <td>NaN</td>\n",
       "      <td>NaN</td>\n",
       "      <td>NaN</td>\n",
       "      <td>NaN</td>\n",
       "      <td>NaN</td>\n",
       "      <td>NaN</td>\n",
       "      <td>NaN</td>\n",
       "    </tr>\n",
       "    <tr>\n",
       "      <th>4</th>\n",
       "      <td>2018-05-29 13:29:25</td>\n",
       "      <td>viewed product</td>\n",
       "      <td>0006a21a</td>\n",
       "      <td>NaN</td>\n",
       "      <td>15338.0</td>\n",
       "      <td>Samsung Galaxy S8</td>\n",
       "      <td>Bom</td>\n",
       "      <td>64GB</td>\n",
       "      <td>Dourado</td>\n",
       "      <td>NaN</td>\n",
       "      <td>...</td>\n",
       "      <td>NaN</td>\n",
       "      <td>NaN</td>\n",
       "      <td>NaN</td>\n",
       "      <td>NaN</td>\n",
       "      <td>NaN</td>\n",
       "      <td>NaN</td>\n",
       "      <td>NaN</td>\n",
       "      <td>NaN</td>\n",
       "      <td>NaN</td>\n",
       "      <td>NaN</td>\n",
       "    </tr>\n",
       "  </tbody>\n",
       "</table>\n",
       "<p>5 rows × 23 columns</p>\n",
       "</div>"
      ],
      "text/plain": [
       "             timestamp            event    person                        url  \\\n",
       "0  2018-05-31 23:38:05  ad campaign hit  0004b0a2  /comprar/iphone/iphone-5s   \n",
       "1  2018-05-31 23:38:05     visited site  0004b0a2                        NaN   \n",
       "2  2018-05-31 23:38:09   viewed product  0004b0a2                        NaN   \n",
       "3  2018-05-31 23:38:40         checkout  0004b0a2                        NaN   \n",
       "4  2018-05-29 13:29:25   viewed product  0006a21a                        NaN   \n",
       "\n",
       "       sku              model condition storage           color skus  \\\n",
       "0      NaN                NaN       NaN     NaN             NaN  NaN   \n",
       "1      NaN                NaN       NaN     NaN             NaN  NaN   \n",
       "2   2694.0          iPhone 5s       Bom    32GB  Cinza espacial  NaN   \n",
       "3   2694.0          iPhone 5s       Bom    32GB  Cinza espacial  NaN   \n",
       "4  15338.0  Samsung Galaxy S8       Bom    64GB         Dourado  NaN   \n",
       "\n",
       "         ...        search_engine channel new_vs_returning        city  \\\n",
       "0        ...                  NaN     NaN              NaN         NaN   \n",
       "1        ...                  NaN    Paid              New  Camaragibe   \n",
       "2        ...                  NaN     NaN              NaN         NaN   \n",
       "3        ...                  NaN     NaN              NaN         NaN   \n",
       "4        ...                  NaN     NaN              NaN         NaN   \n",
       "\n",
       "       region country device_type screen_resolution operating_system_version  \\\n",
       "0         NaN     NaN         NaN               NaN                      NaN   \n",
       "1  Pernambuco  Brazil  Smartphone           360x640                Android 6   \n",
       "2         NaN     NaN         NaN               NaN                      NaN   \n",
       "3         NaN     NaN         NaN               NaN                      NaN   \n",
       "4         NaN     NaN         NaN               NaN                      NaN   \n",
       "\n",
       "    browser_version  \n",
       "0               NaN  \n",
       "1  Chrome Mobile 39  \n",
       "2               NaN  \n",
       "3               NaN  \n",
       "4               NaN  \n",
       "\n",
       "[5 rows x 23 columns]"
      ]
     },
     "execution_count": 3,
     "metadata": {},
     "output_type": "execute_result"
    }
   ],
   "source": [
    "models.head()"
   ]
  },
  {
   "cell_type": "code",
   "execution_count": 5,
   "metadata": {},
   "outputs": [
    {
     "data": {
      "text/plain": [
       "Index(['timestamp', 'event', 'person', 'url', 'sku', 'model', 'condition',\n",
       "       'storage', 'color', 'skus', 'search_term', 'staticpage',\n",
       "       'campaign_source', 'search_engine', 'channel', 'new_vs_returning',\n",
       "       'city', 'region', 'country', 'device_type', 'screen_resolution',\n",
       "       'operating_system_version', 'browser_version'],\n",
       "      dtype='object')"
      ]
     },
     "execution_count": 5,
     "metadata": {},
     "output_type": "execute_result"
    }
   ],
   "source": [
    "models.columns"
   ]
  },
  {
   "cell_type": "markdown",
   "metadata": {},
   "source": [
    "## 10 modelos con mas vistas"
   ]
  },
  {
   "cell_type": "code",
   "execution_count": 6,
   "metadata": {},
   "outputs": [],
   "source": [
    "#10 modelos mas vistos\n",
    "models['model'] = models['model'].dropna()\n",
    "modelos = models[(models['event'] == 'viewed product') & (models['model'])].groupby('model')['event'].count()\n",
    "modelos1 = pd.DataFrame(data = modelos)"
   ]
  },
  {
   "cell_type": "code",
   "execution_count": 7,
   "metadata": {},
   "outputs": [
    {
     "data": {
      "text/plain": [
       "Text(0.5,6.8,'Modelos')"
      ]
     },
     "execution_count": 7,
     "metadata": {},
     "output_type": "execute_result"
    },
    {
     "data": {
      "image/png": "[encoded data removed]",
      "text/plain": [
       "<Figure size 360x360 with 1 Axes>"
      ]
     },
     "metadata": {},
     "output_type": "display_data"
    }
   ],
   "source": [
    "modelos2 = modelos1.reset_index().sort_values(by= 'event', ascending = False)\n",
    "flatui = [\"#9b59b6\", \"#3498db\", \"#95a5a6\", \"#e74c3c\", \"#34495e\", \"#2ecc71\"]\n",
    "ax = sns.catplot(x=\"model\", y=\"event\", kind = \"bar\", palette=flatui, data = modelos2.head(10))\n",
    "ax.set_xticklabels(modelos2.head(10)['model'].values,rotation=90)\n",
    "\n",
    "plt.title('10 modelos con mas vistas', fontsize = 18)\n",
    "plt.ylabel('Cantidades', fontsize = 16)\n",
    "plt.xlabel('Modelos', fontsize = 16)\n"
   ]
  },
  {
   "cell_type": "markdown",
   "metadata": {},
   "source": [
    "## 10 dispositivos con mas conversiones"
   ]
  },
  {
   "cell_type": "code",
   "execution_count": 8,
   "metadata": {},
   "outputs": [
    {
     "data": {
      "text/html": [
       "<div>\n",
       "<style scoped>\n",
       "    .dataframe tbody tr th:only-of-type {\n",
       "        vertical-align: middle;\n",
       "    }\n",
       "\n",
       "    .dataframe tbody tr th {\n",
       "        vertical-align: top;\n",
       "    }\n",
       "\n",
       "    .dataframe thead th {\n",
       "        text-align: right;\n",
       "    }\n",
       "</style>\n",
       "<table border=\"1\" class=\"dataframe\">\n",
       "  <thead>\n",
       "    <tr style=\"text-align: right;\">\n",
       "      <th></th>\n",
       "      <th>model</th>\n",
       "      <th>cantidadConversiones</th>\n",
       "    </tr>\n",
       "  </thead>\n",
       "  <tbody>\n",
       "    <tr>\n",
       "      <th>55</th>\n",
       "      <td>Samsung Galaxy J5</td>\n",
       "      <td>88</td>\n",
       "    </tr>\n",
       "    <tr>\n",
       "      <th>102</th>\n",
       "      <td>iPhone 5s</td>\n",
       "      <td>84</td>\n",
       "    </tr>\n",
       "    <tr>\n",
       "      <th>103</th>\n",
       "      <td>iPhone 6</td>\n",
       "      <td>71</td>\n",
       "    </tr>\n",
       "    <tr>\n",
       "      <th>83</th>\n",
       "      <td>Samsung Galaxy S6 Flat</td>\n",
       "      <td>39</td>\n",
       "    </tr>\n",
       "    <tr>\n",
       "      <th>105</th>\n",
       "      <td>iPhone 6S</td>\n",
       "      <td>37</td>\n",
       "    </tr>\n",
       "    <tr>\n",
       "      <th>101</th>\n",
       "      <td>iPhone 5c</td>\n",
       "      <td>33</td>\n",
       "    </tr>\n",
       "    <tr>\n",
       "      <th>20</th>\n",
       "      <td>Motorola Moto G4 Plus</td>\n",
       "      <td>30</td>\n",
       "    </tr>\n",
       "    <tr>\n",
       "      <th>15</th>\n",
       "      <td>Motorola Moto G3 4G</td>\n",
       "      <td>30</td>\n",
       "    </tr>\n",
       "    <tr>\n",
       "      <th>59</th>\n",
       "      <td>Samsung Galaxy J7</td>\n",
       "      <td>28</td>\n",
       "    </tr>\n",
       "    <tr>\n",
       "      <th>34</th>\n",
       "      <td>Samsung Galaxy A5</td>\n",
       "      <td>27</td>\n",
       "    </tr>\n",
       "    <tr>\n",
       "      <th>48</th>\n",
       "      <td>Samsung Galaxy Gran Prime Duos TV</td>\n",
       "      <td>24</td>\n",
       "    </tr>\n",
       "    <tr>\n",
       "      <th>62</th>\n",
       "      <td>Samsung Galaxy J7 Prime</td>\n",
       "      <td>20</td>\n",
       "    </tr>\n",
       "    <tr>\n",
       "      <th>66</th>\n",
       "      <td>Samsung Galaxy Note 4</td>\n",
       "      <td>19</td>\n",
       "    </tr>\n",
       "    <tr>\n",
       "      <th>84</th>\n",
       "      <td>Samsung Galaxy S7</td>\n",
       "      <td>18</td>\n",
       "    </tr>\n",
       "    <tr>\n",
       "      <th>77</th>\n",
       "      <td>Samsung Galaxy S5</td>\n",
       "      <td>18</td>\n",
       "    </tr>\n",
       "    <tr>\n",
       "      <th>47</th>\n",
       "      <td>Samsung Galaxy Gran Prime 3G Duos</td>\n",
       "      <td>18</td>\n",
       "    </tr>\n",
       "    <tr>\n",
       "      <th>100</th>\n",
       "      <td>iPhone 5</td>\n",
       "      <td>17</td>\n",
       "    </tr>\n",
       "    <tr>\n",
       "      <th>85</th>\n",
       "      <td>Samsung Galaxy S7 Edge</td>\n",
       "      <td>17</td>\n",
       "    </tr>\n",
       "    <tr>\n",
       "      <th>70</th>\n",
       "      <td>Samsung Galaxy S3 Mini</td>\n",
       "      <td>17</td>\n",
       "    </tr>\n",
       "    <tr>\n",
       "      <th>110</th>\n",
       "      <td>iPhone SE</td>\n",
       "      <td>17</td>\n",
       "    </tr>\n",
       "    <tr>\n",
       "      <th>13</th>\n",
       "      <td>Motorola Moto G2 3G Dual</td>\n",
       "      <td>17</td>\n",
       "    </tr>\n",
       "    <tr>\n",
       "      <th>107</th>\n",
       "      <td>iPhone 7</td>\n",
       "      <td>16</td>\n",
       "    </tr>\n",
       "    <tr>\n",
       "      <th>79</th>\n",
       "      <td>Samsung Galaxy S5 Mini Duos</td>\n",
       "      <td>16</td>\n",
       "    </tr>\n",
       "    <tr>\n",
       "      <th>89</th>\n",
       "      <td>Samsung Galaxy Win Duos</td>\n",
       "      <td>16</td>\n",
       "    </tr>\n",
       "    <tr>\n",
       "      <th>81</th>\n",
       "      <td>Samsung Galaxy S6 Edge</td>\n",
       "      <td>16</td>\n",
       "    </tr>\n",
       "    <tr>\n",
       "      <th>86</th>\n",
       "      <td>Samsung Galaxy S8</td>\n",
       "      <td>15</td>\n",
       "    </tr>\n",
       "    <tr>\n",
       "      <th>106</th>\n",
       "      <td>iPhone 6S Plus</td>\n",
       "      <td>14</td>\n",
       "    </tr>\n",
       "    <tr>\n",
       "      <th>35</th>\n",
       "      <td>Samsung Galaxy A5 2016</td>\n",
       "      <td>13</td>\n",
       "    </tr>\n",
       "    <tr>\n",
       "      <th>53</th>\n",
       "      <td>Samsung Galaxy J2 Prime TV</td>\n",
       "      <td>13</td>\n",
       "    </tr>\n",
       "    <tr>\n",
       "      <th>41</th>\n",
       "      <td>Samsung Galaxy Core 2 Duos</td>\n",
       "      <td>13</td>\n",
       "    </tr>\n",
       "    <tr>\n",
       "      <th>...</th>\n",
       "      <td>...</td>\n",
       "      <td>...</td>\n",
       "    </tr>\n",
       "    <tr>\n",
       "      <th>74</th>\n",
       "      <td>Samsung Galaxy S4 i9500</td>\n",
       "      <td>3</td>\n",
       "    </tr>\n",
       "    <tr>\n",
       "      <th>46</th>\n",
       "      <td>Samsung Galaxy Gran Neo Duos</td>\n",
       "      <td>3</td>\n",
       "    </tr>\n",
       "    <tr>\n",
       "      <th>22</th>\n",
       "      <td>Motorola Moto G5 Plus</td>\n",
       "      <td>3</td>\n",
       "    </tr>\n",
       "    <tr>\n",
       "      <th>76</th>\n",
       "      <td>Samsung Galaxy S4 i9515</td>\n",
       "      <td>3</td>\n",
       "    </tr>\n",
       "    <tr>\n",
       "      <th>42</th>\n",
       "      <td>Samsung Galaxy Core Plus Duos TV</td>\n",
       "      <td>3</td>\n",
       "    </tr>\n",
       "    <tr>\n",
       "      <th>3</th>\n",
       "      <td>LG G4 H815P</td>\n",
       "      <td>2</td>\n",
       "    </tr>\n",
       "    <tr>\n",
       "      <th>64</th>\n",
       "      <td>Samsung Galaxy Note 3</td>\n",
       "      <td>2</td>\n",
       "    </tr>\n",
       "    <tr>\n",
       "      <th>88</th>\n",
       "      <td>Samsung Galaxy Win 2 Duos TV</td>\n",
       "      <td>2</td>\n",
       "    </tr>\n",
       "    <tr>\n",
       "      <th>29</th>\n",
       "      <td>Motorola Moto Z</td>\n",
       "      <td>2</td>\n",
       "    </tr>\n",
       "    <tr>\n",
       "      <th>27</th>\n",
       "      <td>Motorola Moto X Style</td>\n",
       "      <td>2</td>\n",
       "    </tr>\n",
       "    <tr>\n",
       "      <th>6</th>\n",
       "      <td>LG K10 Novo</td>\n",
       "      <td>2</td>\n",
       "    </tr>\n",
       "    <tr>\n",
       "      <th>16</th>\n",
       "      <td>Motorola Moto G3 HDTV</td>\n",
       "      <td>2</td>\n",
       "    </tr>\n",
       "    <tr>\n",
       "      <th>69</th>\n",
       "      <td>Samsung Galaxy On 7</td>\n",
       "      <td>2</td>\n",
       "    </tr>\n",
       "    <tr>\n",
       "      <th>23</th>\n",
       "      <td>Motorola Moto G5S Plus</td>\n",
       "      <td>1</td>\n",
       "    </tr>\n",
       "    <tr>\n",
       "      <th>4</th>\n",
       "      <td>LG G4 H818P</td>\n",
       "      <td>1</td>\n",
       "    </tr>\n",
       "    <tr>\n",
       "      <th>109</th>\n",
       "      <td>iPhone 8</td>\n",
       "      <td>1</td>\n",
       "    </tr>\n",
       "    <tr>\n",
       "      <th>25</th>\n",
       "      <td>Motorola Moto X Force</td>\n",
       "      <td>1</td>\n",
       "    </tr>\n",
       "    <tr>\n",
       "      <th>32</th>\n",
       "      <td>Samsung Galaxy A3 2016</td>\n",
       "      <td>1</td>\n",
       "    </tr>\n",
       "    <tr>\n",
       "      <th>94</th>\n",
       "      <td>Sony Xperia Z2</td>\n",
       "      <td>1</td>\n",
       "    </tr>\n",
       "    <tr>\n",
       "      <th>92</th>\n",
       "      <td>Sony Xperia M4 Aqua</td>\n",
       "      <td>1</td>\n",
       "    </tr>\n",
       "    <tr>\n",
       "      <th>91</th>\n",
       "      <td>Samsung Gear S2</td>\n",
       "      <td>1</td>\n",
       "    </tr>\n",
       "    <tr>\n",
       "      <th>31</th>\n",
       "      <td>Motorola Moto Z2 Play</td>\n",
       "      <td>1</td>\n",
       "    </tr>\n",
       "    <tr>\n",
       "      <th>82</th>\n",
       "      <td>Samsung Galaxy S6 Edge Plus</td>\n",
       "      <td>1</td>\n",
       "    </tr>\n",
       "    <tr>\n",
       "      <th>40</th>\n",
       "      <td>Samsung Galaxy A9 Pro 2016</td>\n",
       "      <td>1</td>\n",
       "    </tr>\n",
       "    <tr>\n",
       "      <th>43</th>\n",
       "      <td>Samsung Galaxy E5 4G Duos</td>\n",
       "      <td>1</td>\n",
       "    </tr>\n",
       "    <tr>\n",
       "      <th>63</th>\n",
       "      <td>Samsung Galaxy Mega Duos</td>\n",
       "      <td>1</td>\n",
       "    </tr>\n",
       "    <tr>\n",
       "      <th>61</th>\n",
       "      <td>Samsung Galaxy J7 Neo</td>\n",
       "      <td>1</td>\n",
       "    </tr>\n",
       "    <tr>\n",
       "      <th>57</th>\n",
       "      <td>Samsung Galaxy J5 PRO</td>\n",
       "      <td>1</td>\n",
       "    </tr>\n",
       "    <tr>\n",
       "      <th>1</th>\n",
       "      <td>Asus Zenfone 5</td>\n",
       "      <td>1</td>\n",
       "    </tr>\n",
       "    <tr>\n",
       "      <th>0</th>\n",
       "      <td>Asus Zenfone 3 Max 16 GB</td>\n",
       "      <td>1</td>\n",
       "    </tr>\n",
       "  </tbody>\n",
       "</table>\n",
       "<p>111 rows × 2 columns</p>\n",
       "</div>"
      ],
      "text/plain": [
       "                                 model  cantidadConversiones\n",
       "55                   Samsung Galaxy J5                    88\n",
       "102                          iPhone 5s                    84\n",
       "103                           iPhone 6                    71\n",
       "83              Samsung Galaxy S6 Flat                    39\n",
       "105                          iPhone 6S                    37\n",
       "101                          iPhone 5c                    33\n",
       "20               Motorola Moto G4 Plus                    30\n",
       "15                 Motorola Moto G3 4G                    30\n",
       "59                   Samsung Galaxy J7                    28\n",
       "34                   Samsung Galaxy A5                    27\n",
       "48   Samsung Galaxy Gran Prime Duos TV                    24\n",
       "62             Samsung Galaxy J7 Prime                    20\n",
       "66               Samsung Galaxy Note 4                    19\n",
       "84                   Samsung Galaxy S7                    18\n",
       "77                   Samsung Galaxy S5                    18\n",
       "47   Samsung Galaxy Gran Prime 3G Duos                    18\n",
       "100                           iPhone 5                    17\n",
       "85              Samsung Galaxy S7 Edge                    17\n",
       "70              Samsung Galaxy S3 Mini                    17\n",
       "110                          iPhone SE                    17\n",
       "13            Motorola Moto G2 3G Dual                    17\n",
       "107                           iPhone 7                    16\n",
       "79         Samsung Galaxy S5 Mini Duos                    16\n",
       "89             Samsung Galaxy Win Duos                    16\n",
       "81              Samsung Galaxy S6 Edge                    16\n",
       "86                   Samsung Galaxy S8                    15\n",
       "106                     iPhone 6S Plus                    14\n",
       "35              Samsung Galaxy A5 2016                    13\n",
       "53          Samsung Galaxy J2 Prime TV                    13\n",
       "41          Samsung Galaxy Core 2 Duos                    13\n",
       "..                                 ...                   ...\n",
       "74             Samsung Galaxy S4 i9500                     3\n",
       "46        Samsung Galaxy Gran Neo Duos                     3\n",
       "22               Motorola Moto G5 Plus                     3\n",
       "76             Samsung Galaxy S4 i9515                     3\n",
       "42    Samsung Galaxy Core Plus Duos TV                     3\n",
       "3                          LG G4 H815P                     2\n",
       "64               Samsung Galaxy Note 3                     2\n",
       "88        Samsung Galaxy Win 2 Duos TV                     2\n",
       "29                     Motorola Moto Z                     2\n",
       "27               Motorola Moto X Style                     2\n",
       "6                          LG K10 Novo                     2\n",
       "16               Motorola Moto G3 HDTV                     2\n",
       "69                 Samsung Galaxy On 7                     2\n",
       "23              Motorola Moto G5S Plus                     1\n",
       "4                          LG G4 H818P                     1\n",
       "109                           iPhone 8                     1\n",
       "25               Motorola Moto X Force                     1\n",
       "32              Samsung Galaxy A3 2016                     1\n",
       "94                      Sony Xperia Z2                     1\n",
       "92                 Sony Xperia M4 Aqua                     1\n",
       "91                     Samsung Gear S2                     1\n",
       "31               Motorola Moto Z2 Play                     1\n",
       "82         Samsung Galaxy S6 Edge Plus                     1\n",
       "40          Samsung Galaxy A9 Pro 2016                     1\n",
       "43           Samsung Galaxy E5 4G Duos                     1\n",
       "63            Samsung Galaxy Mega Duos                     1\n",
       "61               Samsung Galaxy J7 Neo                     1\n",
       "57               Samsung Galaxy J5 PRO                     1\n",
       "1                       Asus Zenfone 5                     1\n",
       "0             Asus Zenfone 3 Max 16 GB                     1\n",
       "\n",
       "[111 rows x 2 columns]"
      ]
     },
     "execution_count": 8,
     "metadata": {},
     "output_type": "execute_result"
    }
   ],
   "source": [
    "convXModelo = models[(models['event'] == 'conversion') & (models['model'])].groupby('model')['event'].count()\n",
    "convXModelo1 = pd.DataFrame(data = convXModelo)\n",
    "\n",
    "convXModelo2 = convXModelo1.reset_index().sort_values(by= 'event', ascending = False)\n",
    "convXModelo2.rename(columns = {'event' : 'cantidadConversiones'},inplace = True)\n",
    "convXModelo2\n",
    "\n",
    "#111 modelos con conversiones"
   ]
  },
  {
   "cell_type": "code",
   "execution_count": 9,
   "metadata": {},
   "outputs": [
    {
     "data": {
      "text/plain": [
       "Text(0.5,6.8,'Modelos')"
      ]
     },
     "execution_count": 9,
     "metadata": {},
     "output_type": "execute_result"
    },
    {
     "data": {
      "image/png": "[encoded data removed]",
      "text/plain": [
       "<Figure size 360x360 with 1 Axes>"
      ]
     },
     "metadata": {},
     "output_type": "display_data"
    }
   ],
   "source": [
    "ax = sns.catplot(x=\"model\", y=\"cantidadConversiones\", palette=\"GnBu_d\", kind ='bar', data = convXModelo2.head(10))\n",
    "ax.set_xticklabels(convXModelo2.head(10)['model'].values,rotation=90)\n",
    "\n",
    "plt.title('10 dispositivos con mas conversiones', fontsize = 18)\n",
    "plt.ylabel('Cantidad', fontsize = 16)\n",
    "plt.xlabel('Modelos', fontsize = 16)\n"
   ]
  },
  {
   "cell_type": "markdown",
   "metadata": {},
   "source": [
    "* Entre los dispositivos con mas conversiones lidera el Galaxy J5, esto se puede deber a su precio en comparacion de otros modelos de la marca"
   ]
  },
  {
   "cell_type": "markdown",
   "metadata": {},
   "source": [
    "## Distribucion cuantitativa de los dispositivos con mayoria de checkouts"
   ]
  },
  {
   "cell_type": "code",
   "execution_count": 10,
   "metadata": {},
   "outputs": [
    {
     "data": {
      "text/plain": [
       "Text(0.5,6.8,'Cantidad (log)')"
      ]
     },
     "execution_count": 10,
     "metadata": {},
     "output_type": "execute_result"
    },
    {
     "data": {
      "image/png": "[encoded data removed]",
      "text/plain": [
       "<Figure size 977.125x864 with 1 Axes>"
      ]
     },
     "metadata": {},
     "output_type": "display_data"
    }
   ],
   "source": [
    "#10 dispositivos con mas checkouts\n",
    "dmc = models[(models['event'] == 'checkout') & (models['model'])].groupby('model')['event'].count()\n",
    "dmc = pd.DataFrame(data = dmc.sort_values(ascending =False).head(10)).reset_index()\n",
    "#creo el dataframe de los 10 dispositivos con mas checkouts\n",
    "checksPorModel = models[(models['model'].isin(np.array(dmc['model'])))]\n",
    "#Grafico de los 10 dispositivos con mas checkouts y la cantidad en eventos\n",
    "ax = sns.catplot(y=\"model\", hue=\"event\", kind=\"count\", palette=\"pastel\", edgecolor=\".6\",\\\n",
    "                data=checksPorModel, height = 12,aspect = 1, ci = 95);\n",
    "#Cambio la proporcion (viewed products es muy alto ~ 400000) \n",
    "plt.xscale('log')\n",
    "#Seteo labels\n",
    "plt.title('Grafico de los 10 dispositivos con mas checkouts y la cantidad en eventos', fontsize = 18)\n",
    "plt.ylabel('Modelos', fontsize = 16)\n",
    "plt.xlabel('Cantidad (log)', fontsize = 16)"
   ]
  },
  {
   "cell_type": "markdown",
   "metadata": {},
   "source": [
    "* Se puede observar que hay pocos leads en relacion a la cantidad de vistos, \n",
    "*  Como modelos 'outlier' el iphone 7 Plus tiene menos conversiones que la cantidad de leads al igual que el Galaxy J7 Prime"
   ]
  },
  {
   "cell_type": "markdown",
   "metadata": {},
   "source": [
    "## Cuales son los modelos que causaron mayor cantidad de leads?"
   ]
  },
  {
   "cell_type": "code",
   "execution_count": 11,
   "metadata": {},
   "outputs": [
    {
     "data": {
      "text/plain": [
       "Text(0.5,6.8,'Cantidad (log)')"
      ]
     },
     "execution_count": 11,
     "metadata": {},
     "output_type": "execute_result"
    },
    {
     "data": {
      "image/png": "[encoded data removed]",
      "text/plain": [
       "<Figure size 977.125x864 with 1 Axes>"
      ]
     },
     "metadata": {},
     "output_type": "display_data"
    }
   ],
   "source": [
    "#10 dispositivos con mas leads\n",
    "dml = models[(models['event'] == 'lead') & (models['model'])].groupby('model')['event'].count()\n",
    "dml = pd.DataFrame(data = dml.sort_values(ascending =False).head(10)).reset_index()\n",
    "#creo el dataframe de los 10 dispositivos con mas leads\n",
    "leadsForModel = models[(models['model'].isin(np.array(dml['model'])))]\n",
    "#Grafico de los 10 dispositivos con mas leads y la cantidad en eventos\n",
    "ax = sns.catplot(y=\"model\", hue=\"event\", kind=\"count\", palette=\"hls\", edgecolor=\".6\",\\\n",
    "                data=leadsForModel, height = 12,aspect = 1, ci = 95);\n",
    "#Cambio la proporcion (viewed products es muy alto) \n",
    "plt.xscale('log')\n",
    "#Seteo labels\n",
    "plt.title('Grafico de los 10 dispositivos con mas leads y la cantidad en eventos', fontsize = 18)\n",
    "plt.ylabel('Modelos', fontsize = 16)\n",
    "plt.xlabel('Cantidad (log)', fontsize = 16)"
   ]
  },
  {
   "cell_type": "markdown",
   "metadata": {},
   "source": [
    "* Se detectan varios funnels de usuarios que entran al checkout evitando las conversiones, una parte se convierte en lead pero no realiza conversion, esto se podria deber a una falta de stock, el caso mas notable es el del iphone 8 y el A9 Pro 2016, en cambio dispositivos que aportan al sitio por ejemplo el iphone 6 y el Moto G4 Plus"
   ]
  },
  {
   "cell_type": "markdown",
   "metadata": {},
   "source": [
    "## Modelos en mejores condiciones\n"
   ]
  },
  {
   "cell_type": "code",
   "execution_count": 12,
   "metadata": {},
   "outputs": [
    {
     "data": {
      "text/plain": [
       "Bom                   243014\n",
       "Excelente             152977\n",
       "Muito Bom             151359\n",
       "Bom - Sem Touch ID     15295\n",
       "Novo                    1191\n",
       "Name: condition, dtype: int64"
      ]
     },
     "execution_count": 12,
     "metadata": {},
     "output_type": "execute_result"
    }
   ],
   "source": [
    "#Cantidad de modelos por condicion sin nulos\n",
    "models['condition'].dropna().value_counts()"
   ]
  },
  {
   "cell_type": "code",
   "execution_count": 13,
   "metadata": {},
   "outputs": [],
   "source": [
    "modelosEnMejoresCond = models[(models['condition'] == 'Excelente') & (models['model'])]"
   ]
  },
  {
   "cell_type": "code",
   "execution_count": 14,
   "metadata": {},
   "outputs": [
    {
     "data": {
      "text/plain": [
       "model\n",
       "iPhone 6                                     12598\n",
       "iPhone 6S                                    12363\n",
       "iPhone 5s                                     9774\n",
       "iPhone 7                                      8151\n",
       "iPhone 7 Plus                                 7667\n",
       "Samsung Galaxy S7 Edge                        6872\n",
       "iPhone SE                                     5507\n",
       "Samsung Galaxy S8                             5187\n",
       "Samsung Galaxy S7                             5069\n",
       "iPhone 6S Plus                                3890\n",
       "Samsung Galaxy S8 Plus                        3695\n",
       "iPhone 6 Plus                                 3466\n",
       "Samsung Galaxy J7 Prime                       3445\n",
       "Motorola Moto G4 Plus                         2733\n",
       "Samsung Galaxy S6 Flat                        2433\n",
       "iPhone 5c                                     2382\n",
       "Samsung Galaxy S6 Edge                        2365\n",
       "Samsung Galaxy J5                             2083\n",
       "iPhone 5                                      2019\n",
       "Samsung Galaxy A5 2017                        1909\n",
       "Samsung Galaxy A7 2017                        1579\n",
       "Samsung Galaxy J7                             1437\n",
       "Samsung Galaxy S5                             1355\n",
       "Samsung Galaxy Note 8                         1351\n",
       "Motorola Moto X2                              1344\n",
       "Motorola Moto X Play 4G Dual                  1322\n",
       "iPhone 4S                                     1296\n",
       "Motorola Moto G5 Plus                         1229\n",
       "Motorola Moto G5                              1187\n",
       "Motorola Moto G2 3G Dual                      1123\n",
       "                                             ...  \n",
       "Samsung Galaxy Tab E 9.6 Wi-Fi                  15\n",
       "Samsung Galaxy Tab S2 8 Wi-Fi + 4G              14\n",
       "Samsung Galaxy Tab Pro 10.1 Wi-Fi               13\n",
       "Samsung Galaxy Tab S 10.5 Wi-Fi + 4G            11\n",
       "Asus Zenfone 3 Zoom                             11\n",
       "Samsung Galaxy Tab E 7 Wi-Fi + 3G                9\n",
       "Samsung Galaxy Tab 3 10.1 Wi-Fi + 3G             9\n",
       "Samsung Gear Fit 2 Grande                        9\n",
       "iPad 2 Wi-Fi + 3G                                8\n",
       "Samsung Galaxy Tab 4  10.1 Wi-Fi + 3G            7\n",
       "Motorola Moto G1 4G                              7\n",
       "Samsung Galaxy Tab S 8.4 Wi-Fi + 4G              6\n",
       "Samsung Galaxy Tab E 9.6 Wi-Fi + 3G              6\n",
       "Samsung Gear S3 Classic                          5\n",
       "Asus Zenfone Selfie                              5\n",
       "Asus Zenfone Go                                  4\n",
       "iPad Mini 2 Wi-Fi + 4G                           4\n",
       "Asus Live                                        4\n",
       "Samsung Galaxy S5 Mini                           4\n",
       "Samsung Galaxy Tab S2 9.7 Wi-Fi + 4G             3\n",
       "Samsung Galaxy Tab A 2016 10.1  W-Fi + 4G        3\n",
       "iPad 4 Wi-Fi + 4G                                2\n",
       "iPad 2 Wi-Fi                                     2\n",
       "Samsung Galaxy Tab S 10.5 Wi-Fi                  2\n",
       "Asus Zenfone 2 Laser                             2\n",
       "LG L80 Dual                                      1\n",
       "Samsung Galaxy Tab E 7 Wi-Fi                     1\n",
       "Samsung Galaxy Mega Duos                         1\n",
       "Samsung Galaxy Gran Prime Duos                   1\n",
       "Quantum Muv                                      1\n",
       "Length: 192, dtype: int64"
      ]
     },
     "execution_count": 14,
     "metadata": {},
     "output_type": "execute_result"
    }
   ],
   "source": [
    "modelosEnMejoresCond = pd.crosstab(modelosEnMejoresCond.condition,modelosEnMejoresCond.model).max().sort_values(ascending = False)\n",
    "modelosEnMejoresCond"
   ]
  },
  {
   "cell_type": "code",
   "execution_count": 15,
   "metadata": {},
   "outputs": [
    {
     "data": {
      "text/plain": [
       "Bom                   243014\n",
       "Excelente             152977\n",
       "Muito Bom             151359\n",
       "Bom - Sem Touch ID     15295\n",
       "Novo                    1191\n",
       "Name: condition, dtype: int64"
      ]
     },
     "execution_count": 15,
     "metadata": {},
     "output_type": "execute_result"
    }
   ],
   "source": [
    "## 10 modelos en 'peores' condiciones (Bom)\n",
    "models['condition'].value_counts()"
   ]
  },
  {
   "cell_type": "code",
   "execution_count": 16,
   "metadata": {},
   "outputs": [],
   "source": [
    "modelosEnPeoresCond = models[(models['condition'] == 'Bom - Sem Touch ID') & (models['model'])]"
   ]
  },
  {
   "cell_type": "code",
   "execution_count": 17,
   "metadata": {},
   "outputs": [
    {
     "data": {
      "text/plain": [
       "model\n",
       "iPhone 5s                9597\n",
       "iPhone 6                 4434\n",
       "iPhone SE                 593\n",
       "iPhone 6S                 452\n",
       "iPhone 5                  139\n",
       "iPhone 6 Plus              30\n",
       "Samsung Galaxy Note 5      27\n",
       "iPhone 6S Plus             23\n",
       "dtype: int64"
      ]
     },
     "execution_count": 17,
     "metadata": {},
     "output_type": "execute_result"
    }
   ],
   "source": [
    "modelosEnPeoresCond = pd.crosstab(modelosEnPeoresCond.condition,modelosEnPeoresCond.model).max().sort_values(ascending = False)\n",
    "modelosEnPeoresCond"
   ]
  },
  {
   "cell_type": "markdown",
   "metadata": {},
   "source": [
    "## Cuales son los modelos en condicion de nuevo disponibles en la web?"
   ]
  },
  {
   "cell_type": "code",
   "execution_count": 18,
   "metadata": {},
   "outputs": [],
   "source": [
    "modelosMasNuevos = models[(models['condition'] == 'Novo') & (models['model'])]"
   ]
  },
  {
   "cell_type": "code",
   "execution_count": 19,
   "metadata": {},
   "outputs": [
    {
     "data": {
      "text/plain": [
       "model\n",
       "Samsung Galaxy Note 8     879\n",
       "Samsung Galaxy A7 2017    312\n",
       "dtype: int64"
      ]
     },
     "execution_count": 19,
     "metadata": {},
     "output_type": "execute_result"
    }
   ],
   "source": [
    "modelosMasNuevos = pd.crosstab(modelosMasNuevos.condition,modelosMasNuevos.model).max().sort_values(ascending = False)\n",
    "modelosMasNuevos\n"
   ]
  },
  {
   "cell_type": "markdown",
   "metadata": {},
   "source": [
    "* Se puede ver que solo estan disponibles dos modelos nuevos en la pagina y el de mayor cantidad el Samsung Note 8"
   ]
  },
  {
   "cell_type": "markdown",
   "metadata": {},
   "source": [
    "## 10  modelos que llegaron al checkout y mayor cantidad por condicion\n"
   ]
  },
  {
   "cell_type": "code",
   "execution_count": 20,
   "metadata": {},
   "outputs": [
    {
     "data": {
      "text/plain": [
       "Text(0.5,42,'Models')"
      ]
     },
     "execution_count": 20,
     "metadata": {},
     "output_type": "execute_result"
    },
    {
     "data": {
      "image/png": "[encoded data removed]",
      "text/plain": [
       "<Figure size 720x504 with 2 Axes>"
      ]
     },
     "metadata": {},
     "output_type": "display_data"
    }
   ],
   "source": [
    "ConditionsAndCheckoutsModels = models[(models['event'] =='checkout')]\n",
    "arrayLabels = dmc['model'].values\n",
    "ConditionsAndCheckoutsModels = ConditionsAndCheckoutsModels[(ConditionsAndCheckoutsModels['model'].isin(arrayLabels))]\n",
    "ConditionsAndCheckoutsModels = pd.crosstab(ConditionsAndCheckoutsModels.condition, \\\n",
    "                                   ConditionsAndCheckoutsModels.model)\n",
    "#plot\n",
    "fig,ax = plt.subplots(figsize=(10,7))\n",
    "g = sns.heatmap(ConditionsAndCheckoutsModels,  cmap=\"Blues\", ax=ax,cbar_kws={'label': 'Cantidades'})\n",
    "\n",
    "plt.title('10  modelos con mas checkouts y mayor cantidad por condicion', fontsize = 18)\n",
    "plt.ylabel('Conditions', fontsize = 18)\n",
    "plt.xlabel('Models', fontsize = 18)"
   ]
  },
  {
   "cell_type": "markdown",
   "metadata": {},
   "source": [
    "* Se puede ver que el telefono mas buscado es en general el iphone 5s ademas de encontrarse en condiciones 'Bom'\n",
    "  Lo que puede pensarse es que todo iphone 6 llegado a Trocafone llega con un uso considerable del mismo, \n",
    "  idem el Galaxy J5 que ademas es el mas vendido"
   ]
  },
  {
   "cell_type": "markdown",
   "metadata": {},
   "source": [
    "## Cual es la condicion de los modelos de mayor conversion?"
   ]
  },
  {
   "cell_type": "code",
   "execution_count": 21,
   "metadata": {},
   "outputs": [
    {
     "data": {
      "text/plain": [
       "Text(0.5,42,'Models')"
      ]
     },
     "execution_count": 21,
     "metadata": {},
     "output_type": "execute_result"
    },
    {
     "data": {
      "image/png": "[encoded data removed]",
      "text/plain": [
       "<Figure size 720x504 with 2 Axes>"
      ]
     },
     "metadata": {},
     "output_type": "display_data"
    }
   ],
   "source": [
    "\n",
    "ConditionsAndConversionsModels = models[(models['event'] =='conversion')]\n",
    "arrayLabels = convXModelo2.head(10)['model'].values\n",
    "ConditionsAndConversionsModels = ConditionsAndConversionsModels[(ConditionsAndConversionsModels['model'].isin(arrayLabels))]\n",
    "ConditionsAndConversionsModels = pd.crosstab(ConditionsAndConversionsModels.condition, \\\n",
    "                                   ConditionsAndConversionsModels.model)\n",
    "#plot\n",
    "fig,ax = plt.subplots(figsize=(10,7))\n",
    "g = sns.heatmap(ConditionsAndConversionsModels,  cmap=\"Oranges\", ax=ax,cbar_kws={'label': 'Cantidades'})\n",
    "\n",
    "plt.title('10  modelos con mas conversiones y mayor cantidad por condicion', fontsize = 18)\n",
    "plt.ylabel('Conditions', fontsize = 18)\n",
    "plt.xlabel('Models', fontsize = 18)"
   ]
  },
  {
   "cell_type": "markdown",
   "metadata": {},
   "source": [
    "* Se puede ver que el telefono mas vendido es el Samsung Galaxy J5 como habiamos concluido y que estos en general no se encuentran en condicion 'Excelente' sino en 'Bom' y 'Muito Bom'"
   ]
  },
  {
   "cell_type": "markdown",
   "metadata": {},
   "source": [
    "## Colores de modelos mas comprados en  el mes de mas venta?"
   ]
  },
  {
   "cell_type": "code",
   "execution_count": 3,
   "metadata": {},
   "outputs": [
    {
     "data": {
      "text/plain": [
       "5    351\n",
       "4    316\n",
       "3    265\n",
       "6    103\n",
       "2     74\n",
       "1     63\n",
       "Name: months, dtype: int64"
      ]
     },
     "execution_count": 3,
     "metadata": {},
     "output_type": "execute_result"
    }
   ],
   "source": [
    "#Pasamos a datetime la columna timestamp\n",
    "models['timestamp'] = pd.to_datetime(models['timestamp'], errors='raise')\n",
    "\n",
    "#Creamos una columna de meses\n",
    "models['months'] = models['timestamp'].dt.month\n",
    "\n",
    "#Filtramos por conversiones\n",
    "mesesVenta = models[(models['event'] == 'conversion')] \n",
    "\n",
    "#Miramos los meses de mayor venta y como se puede ver lidera el mes 5.\n",
    "mesesVenta['months'].value_counts()"
   ]
  },
  {
   "cell_type": "code",
   "execution_count": 4,
   "metadata": {},
   "outputs": [],
   "source": [
    "#Obtengo los mas vendidos en Mayo\n",
    "masVendidosMayo = mesesVenta[(mesesVenta['months'] == 5)]\n",
    "masVendidosMayo = masVendidosMayo.groupby('model')['event'].count().sort_values(ascending = False)\n"
   ]
  },
  {
   "cell_type": "code",
   "execution_count": 5,
   "metadata": {},
   "outputs": [],
   "source": [
    "#Me quedo con los 6 primeros\n",
    "masVendidosMayo = np.array(masVendidosMayo.head(6).index)"
   ]
  },
  {
   "cell_type": "code",
   "execution_count": 6,
   "metadata": {},
   "outputs": [
    {
     "data": {
      "text/plain": [
       "color\n",
       "Dourado           138\n",
       "Cinza espacial     73\n",
       "Prateado           45\n",
       "Preto              37\n",
       "Branco             26\n",
       "Ouro Rosa          20\n",
       "Name: model, dtype: int64"
      ]
     },
     "execution_count": 6,
     "metadata": {},
     "output_type": "execute_result"
    }
   ],
   "source": [
    "#Como se aprecia el dorado es el mas comprado\n",
    "MVC = mesesVenta[mesesVenta['model'].isin(masVendidosMayo)].groupby('color')['model'].count().sort_values(ascending = False)\n",
    "MVC"
   ]
  },
  {
   "cell_type": "code",
   "execution_count": 8,
   "metadata": {},
   "outputs": [
    {
     "data": {
      "image/png": "[encoded data removed]",
      "text/plain": [
       "<Figure size 432x288 with 1 Axes>"
      ]
     },
     "metadata": {},
     "output_type": "display_data"
    }
   ],
   "source": [
    "#Pequenio grafico\n",
    "colores =MVC.index\n",
    "cantidades = MVC.values\n",
    "explode = (0.1, 0, 0, 0, 0, 0) \n",
    "\n",
    "fig1, ax1 = plt.subplots()\n",
    "\n",
    "ax1.pie(cantidades, explode=explode, labels=colores,\n",
    "        shadow=True, startangle=90, colors=['gold','gray','silver','k','w','pink'], pctdistance= 0.7)\n",
    "\n",
    "ax1.set(aspect=\"equal\", title='Colores mas relevantes (10 modelos con mas ventas)')\n",
    "\n",
    "plt.show()\n"
   ]
  }
 ],
 "metadata": {
  "kernelspec": {
   "display_name": "Python 3",
   "language": "python",
   "name": "python3"
  },
  "language_info": {
   "codemirror_mode": {
    "name": "ipython",
    "version": 3
   },
   "file_extension": ".py",
   "mimetype": "text/x-python",
   "name": "python",
   "nbconvert_exporter": "python",
   "pygments_lexer": "ipython3",
   "version": "3.6.5"
  }
 },
 "nbformat": 4,
 "nbformat_minor": 2
}
